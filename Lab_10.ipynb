{
 "cells": [
  {
   "cell_type": "markdown",
   "id": "c667aaf1",
   "metadata": {},
   "source": [
    "# Laboratorio 10\n",
    "## Proyecto de Consultoría - SparkML\n",
    "\n",
    "- Sofia Mishell 22049\n",
    "- Jose Marchena 22398"
   ]
  },
  {
   "cell_type": "markdown",
   "id": "a4a21bf5",
   "metadata": {},
   "source": [
    "### 0) Iniciar Spark"
   ]
  },
  {
   "cell_type": "code",
   "execution_count": 1,
   "id": "e3e5d7f9",
   "metadata": {},
   "outputs": [],
   "source": [
    "import os\n",
    "\n",
    "## Para funcionamiento en windows\n",
    "os.environ[\"SPARK_LOCAL_DIRS\"] = r\"C:\\tmp\\spark-temp\"\n",
    "# (Crear la carpeta en tu equipo si no existe)"
   ]
  },
  {
   "cell_type": "code",
   "execution_count": 2,
   "id": "ba9b1b2e",
   "metadata": {},
   "outputs": [
    {
     "name": "stdout",
     "output_type": "stream",
     "text": [
      "Spark version: 4.0.1\n"
     ]
    }
   ],
   "source": [
    "from pyspark.sql import SparkSession\n",
    "spark = SparkSession.builder.appName(\"Cruceros_Spark\").getOrCreate()\n",
    "print(\"Spark version:\", spark.version)"
   ]
  },
  {
   "cell_type": "code",
   "execution_count": 4,
   "id": "00e1c8f0",
   "metadata": {},
   "outputs": [],
   "source": [
    "data_df = spark.read.csv(\"./barcos_crucero.csv\", header=True, inferSchema=True)"
   ]
  },
  {
   "cell_type": "code",
   "execution_count": 5,
   "id": "6c8482ad",
   "metadata": {},
   "outputs": [
    {
     "name": "stdout",
     "output_type": "stream",
     "text": [
      "root\n",
      " |-- Ship_name: string (nullable = true)\n",
      " |-- Cruise_line: string (nullable = true)\n",
      " |-- Age: integer (nullable = true)\n",
      " |-- Tonnage: double (nullable = true)\n",
      " |-- passengers: double (nullable = true)\n",
      " |-- length: double (nullable = true)\n",
      " |-- cabins: double (nullable = true)\n",
      " |-- passenger_density: double (nullable = true)\n",
      " |-- crew: double (nullable = true)\n",
      "\n"
     ]
    }
   ],
   "source": [
    "data_df.printSchema()"
   ]
  },
  {
   "cell_type": "code",
   "execution_count": null,
   "id": "faa3972f",
   "metadata": {},
   "outputs": [],
   "source": [
    "data_df.describe().show()"
   ]
  }
 ],
 "metadata": {
  "kernelspec": {
   "display_name": ".venv (3.12.2)",
   "language": "python",
   "name": "python3"
  },
  "language_info": {
   "codemirror_mode": {
    "name": "ipython",
    "version": 3
   },
   "file_extension": ".py",
   "mimetype": "text/x-python",
   "name": "python",
   "nbconvert_exporter": "python",
   "pygments_lexer": "ipython3",
   "version": "3.12.2"
  }
 },
 "nbformat": 4,
 "nbformat_minor": 5
}
